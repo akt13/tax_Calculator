{
 "cells": [
  {
   "cell_type": "code",
   "execution_count": 20,
   "id": "551315a0",
   "metadata": {},
   "outputs": [],
   "source": [
    "import camelot\n",
    "import pandas as pd\n",
    "from glob import glob"
   ]
  },
  {
   "cell_type": "code",
   "execution_count": 21,
   "id": "54d383b4",
   "metadata": {},
   "outputs": [
    {
     "name": "stderr",
     "output_type": "stream",
     "text": [
      "Illegal character in Name Object (b'/iText\\xae 5.5.0 \\xa92000-2013 iText Group NV (AGPL-version)')\n"
     ]
    }
   ],
   "source": [
    "form16 = glob((\"data_Inputs/*.pdf\"))\n",
    "tables = camelot.read_pdf(form16[0], password='xxxxxxxxx', pages='1-end')"
   ]
  },
  {
   "cell_type": "code",
   "execution_count": 22,
   "id": "33ff1e09",
   "metadata": {},
   "outputs": [],
   "source": [
    "n=camelot.core.TableList(tables).n"
   ]
  },
  {
   "cell_type": "code",
   "execution_count": 23,
   "id": "1e33d47d",
   "metadata": {},
   "outputs": [],
   "source": [
    "def valueFinder(df, keyword):\n",
    "    result = df[df.eq(keyword).any(1)]\n",
    "    if not result.empty:\n",
    "        row_index, col_index = result.stack().index[0]\n",
    "        next_col_index = (col_index) + 2\n",
    "        next_col_value = df.iloc[row_index, next_col_index]\n",
    "        if(next_col_value==''):\n",
    "            next_col_index = (col_index) + 3\n",
    "            next_col_value = df.iloc[row_index, next_col_index]\n",
    "        #print(keyword, ' : ', next_col_value)\n",
    "        return next_col_value"
   ]
  },
  {
   "cell_type": "code",
   "execution_count": 24,
   "id": "f564d551",
   "metadata": {},
   "outputs": [
    {
     "name": "stdout",
     "output_type": "stream",
     "text": [
      "{'gross_Income': '490801.00', 'C_80': '42319.00', 'CCD_80': '3000.00', 'E_80': '0.00', 'G_80': '0.00', 'TTA_80': '0.00', 'taxable_Income': '445482.00', 'tax_payable': '0.00'}\n"
     ]
    },
    {
     "name": "stderr",
     "output_type": "stream",
     "text": [
      "C:\\Users\\abhij\\AppData\\Local\\Temp\\ipykernel_11944\\40526375.py:2: FutureWarning: In a future version of pandas all arguments of DataFrame.any and Series.any will be keyword-only.\n",
      "  result = df[df.eq(keyword).any(1)]\n"
     ]
    }
   ],
   "source": [
    "search_string = {'gross_Income' :  'Gross total income (6+8)',\n",
    "    'C_80' : 'Total deduction under section 80C, 80CCC and 80CCD(1)',\n",
    "    'CCD_80' : 'Deductions in respect of amount paid/deposited to notified\\npension scheme under section 80CCD (1B)',\n",
    "    'E_80' : 'Deduction in respect of interest on loan taken for higher\\neducation under section 80E',\n",
    "    'G_80' : 'Total Deduction in respect of donations to certain funds,\\ncharitable institutions, etc. under section 80G',\n",
    "    'TTA_80' : 'Deduction in respect of interest on deposits in savings account\\nunder section 80TTA',\n",
    "    'taxable_Income' : 'Total taxable income (9-11)',\n",
    "    'tax_payable' : 'Net tax payable (17-18)'}\n",
    "outputLst = []\n",
    "for i in range(n):\n",
    "    for key,val in search_string.items():\n",
    "        df = tables[i].df\n",
    "        data_ = valueFinder(df, val)\n",
    "        if data_ != None:\n",
    "            outputLst.append(data_)\n",
    "keysList = list(search_string.keys())\n",
    "data_extracted = dict(zip(keysList,outputLst))\n",
    "print(data_extracted)"
   ]
  },
  {
   "cell_type": "code",
   "execution_count": 7,
   "id": "c53ecab8",
   "metadata": {},
   "outputs": [
    {
     "name": "stdout",
     "output_type": "stream",
     "text": [
      "{'gross_Income': '490801.00', 'C_80': '42319.00', 'CCD_80': '3000.00', 'E_80': '0.00', 'G_80': '0.00', 'TTA_80': '0.00', 'taxable_Income': '445482.00', 'tax_payable': '0.00', 'Intraday/Speculative profit': 0, 'Short Term profit': 150, 'Long Term profit': 3000, 'dividents': 1743.8000000000002}\n"
     ]
    }
   ],
   "source": [
    "taxpnl = glob((\"data_Inputs/taxpnl-*.xlsx\"))\n",
    "df_holding = pd.read_excel(taxpnl[0], skiprows=13, sheet_name = 'Equity', index_col = 0)\n",
    "df_holding = df_holding.head(3)\n",
    "capitalGain = dict(zip(df_holding['Unnamed: 1'], df_holding['Unnamed: 2']))\n",
    "\n",
    "df_divident = pd.read_excel(taxpnl[0], skiprows=14, sheet_name = 'Equity Dividends', index_col = 0)\n",
    "divident = df_divident['Net Dividend Amount'].sum()\n",
    "dividents = {'dividents' : divident}\n",
    "data_extracted.update(capitalGain)\n",
    "data_extracted.update(dividents)\n",
    "print(data_extracted)"
   ]
  },
  {
   "cell_type": "code",
   "execution_count": 18,
   "id": "27896c24",
   "metadata": {},
   "outputs": [],
   "source": [
    "def find_tax(dataExtracted):\n",
    "    taxable_income = int(float(dataExtracted['taxable_Income'])) + int(float(dataExtracted['dividents']))\n",
    "    print(taxable_income)\n",
    "    if(taxable_income<500000):\n",
    "        tax_payable = 0\n",
    "    else:\n",
    "        pass\n",
    "    print(tax_payable)"
   ]
  },
  {
   "cell_type": "code",
   "execution_count": 19,
   "id": "68ea5159",
   "metadata": {},
   "outputs": [
    {
     "name": "stdout",
     "output_type": "stream",
     "text": [
      "447225\n",
      "0\n"
     ]
    }
   ],
   "source": [
    "find_tax(data_extracted)"
   ]
  },
  {
   "cell_type": "code",
   "execution_count": null,
   "id": "ffe926a6",
   "metadata": {},
   "outputs": [],
   "source": []
  }
 ],
 "metadata": {
  "kernelspec": {
   "display_name": "Python 3 (ipykernel)",
   "language": "python",
   "name": "python3"
  },
  "language_info": {
   "codemirror_mode": {
    "name": "ipython",
    "version": 3
   },
   "file_extension": ".py",
   "mimetype": "text/x-python",
   "name": "python",
   "nbconvert_exporter": "python",
   "pygments_lexer": "ipython3",
   "version": "3.10.8"
  }
 },
 "nbformat": 4,
 "nbformat_minor": 5
}
